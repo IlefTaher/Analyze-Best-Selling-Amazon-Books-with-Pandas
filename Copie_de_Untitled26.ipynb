{
  "nbformat": 4,
  "nbformat_minor": 0,
  "metadata": {
    "colab": {
      "provenance": [],
      "authorship_tag": "ABX9TyM+ifltxW2Y6pYjSNXsfO/I",
      "include_colab_link": true
    },
    "kernelspec": {
      "name": "python3",
      "display_name": "Python 3"
    },
    "language_info": {
      "name": "python"
    }
  },
  "cells": [
    {
      "cell_type": "markdown",
      "metadata": {
        "id": "view-in-github",
        "colab_type": "text"
      },
      "source": [
        "<a href=\"https://colab.research.google.com/github/IlefTaher/Analyze-Best-Selling-Amazon-Books-with-Pandas/blob/main/Copie_de_Untitled26.ipynb\" target=\"_parent\"><img src=\"https://colab.research.google.com/assets/colab-badge.svg\" alt=\"Open In Colab\"/></a>"
      ]
    },
    {
      "cell_type": "code",
      "execution_count": null,
      "metadata": {
        "colab": {
          "base_uri": "https://localhost:8080/"
        },
        "id": "RlMFbE7x-1xH",
        "outputId": "0f09ae35-94e6-4512-a4ac-14bc52a7752d"
      },
      "outputs": [
        {
          "output_type": "stream",
          "name": "stdout",
          "text": [
            "                                                Name  \\\n",
            "0                      10-Day Green Smoothie Cleanse   \n",
            "1                                  11/22/63: A Novel   \n",
            "2            12 Rules for Life: An Antidote to Chaos   \n",
            "3                             1984 (Signet Classics)   \n",
            "4  5,000 Awesome Facts (About Everything!) (Natio...   \n",
            "\n",
            "                     Author  User Rating  Reviews  Price  Year        Genre  \n",
            "0                  JJ Smith          4.7    17350      8  2016  Non Fiction  \n",
            "1              Stephen King          4.6     2052     22  2011      Fiction  \n",
            "2        Jordan B. Peterson          4.7    18979     15  2018  Non Fiction  \n",
            "3             George Orwell          4.7    21424      6  2017      Fiction  \n",
            "4  National Geographic Kids          4.8     7665     12  2019  Non Fiction  \n",
            "(550, 7)\n",
            "Index(['Name', 'Author', 'User Rating', 'Reviews', 'Price', 'Year', 'Genre'], dtype='object')\n",
            "       User Rating       Reviews       Price         Year\n",
            "count   550.000000    550.000000  550.000000   550.000000\n",
            "mean      4.618364  11953.281818   13.100000  2014.000000\n",
            "std       0.226980  11731.132017   10.842262     3.165156\n",
            "min       3.300000     37.000000    0.000000  2009.000000\n",
            "25%       4.500000   4058.000000    7.000000  2011.000000\n",
            "50%       4.700000   8580.000000   11.000000  2014.000000\n",
            "75%       4.800000  17253.250000   16.000000  2017.000000\n",
            "max       4.900000  87841.000000  105.000000  2019.000000\n",
            "Author\n",
            "Jeff Kinney                           12\n",
            "Suzanne Collins                       11\n",
            "Gary Chapman                          11\n",
            "Rick Riordan                          11\n",
            "American Psychological Association    10\n",
            "                                      ..\n",
            "Maurice Sendak                         1\n",
            "Cheryl Strayed                         1\n",
            "The Staff of The Late Show with       1\n",
            "Geneen Roth                            1\n",
            "Ken Follett                            1\n",
            "Name: count, Length: 248, dtype: int64\n",
            "Genre\n",
            "Fiction        4.648333\n",
            "Non Fiction    4.595161\n",
            "Name: Rating, dtype: float64\n"
          ]
        }
      ],
      "source": [
        "import pandas as pd\n",
        "\n",
        "# The file is located in Google Drive, so we need to provide the full path.\n",
        "df = pd.read_csv('/content/drive/MyDrive/bestsellers.csv')\n",
        "\n",
        "# Get the first 5 rows of the spreadsheet\n",
        "print(df.head())\n",
        "\n",
        "# Get the shape of the spreadsheet\n",
        "print(df.shape)\n",
        "\n",
        "# Get the column names of the spreadsheet\n",
        "print(df.columns)\n",
        "\n",
        "# Get summary statistics for each column\n",
        "print(df.describe())\n",
        "\n",
        "df.drop_duplicates(inplace=True)\n",
        "\n",
        "df.rename(columns={\"Name\": \"Title\", \"Year\": \"Publication Year\", \"User Rating\": \"Rating\"}, inplace=True)\n",
        "\n",
        "df[\"Price\"] = df[\"Price\"].astype(float)\n",
        "\n",
        "author_counts = df['Author'].value_counts()\n",
        "\n",
        "print(author_counts)\n",
        "\n",
        "avg_rating_by_genre = df.groupby(\"Genre\")[\"Rating\"].mean()\n",
        "\n",
        "print(avg_rating_by_genre)\n",
        "\n",
        "# Export top selling authors to a CSV file\n",
        "author_counts.head(10).to_csv(\"top_authors.csv\")\n",
        "\n",
        "# Export average rating by genre to a CSV file\n",
        "avg_rating_by_genre.to_csv(\"avg_rating_by_genre.csv\")\n"
      ]
    },
    {
      "cell_type": "code",
      "source": [],
      "metadata": {
        "colab": {
          "base_uri": "https://localhost:8080/"
        },
        "id": "A3dxNR2v-6kF",
        "outputId": "a682497a-1ea5-491b-863d-b67382431522"
      },
      "execution_count": null,
      "outputs": [
        {
          "output_type": "stream",
          "name": "stdout",
          "text": [
            "Mounted at /content/drive\n"
          ]
        }
      ]
    }
  ]
}